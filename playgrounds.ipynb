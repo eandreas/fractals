{
 "cells": [
  {
   "cell_type": "code",
   "execution_count": 1,
   "id": "48bccfc5",
   "metadata": {},
   "outputs": [],
   "source": [
    "from fastcore.parallel import parallel\n",
    "from time import sleep\n",
    "from datetime import datetime\n",
    "import random\n"
   ]
  },
  {
   "cell_type": "code",
   "execution_count": 4,
   "id": "76c8092e",
   "metadata": {},
   "outputs": [
    {
     "name": "stdout",
     "output_type": "stream",
     "text": [
      "0 2021-12-22 20:35:21.540976\n",
      "1 2021-12-22 20:35:21.791434\n",
      "2 2021-12-22 20:35:22.042140\n",
      "3 2021-12-22 20:35:22.292763\n",
      "4 2021-12-22 20:35:22.543392\n",
      "5 2021-12-22 20:35:22.794639\n",
      "6 2021-12-22 20:35:23.045674\n",
      "7 2021-12-22 20:35:23.296935\n",
      "8 2021-12-22 20:35:23.548217\n",
      "9 2021-12-22 20:35:23.798481\n",
      "10 2021-12-22 20:35:24.049733\n",
      "11 2021-12-22 20:35:24.300980\n",
      "12 2021-12-22 20:35:24.551360\n",
      "13 2021-12-22 20:35:24.802634\n",
      "14 2021-12-22 20:35:25.053666\n",
      "15 2021-12-22 20:35:25.304950\n",
      "16 2021-12-22 20:35:25.555754\n",
      "17 2021-12-22 20:35:25.807045\n",
      "18 2021-12-22 20:35:26.057277\n",
      "19 2021-12-22 20:35:26.307641\n"
     ]
    },
    {
     "data": {
      "text/plain": [
       "(#20) [None,None,None,None,None,None,None,None,None,None...]"
      ]
     },
     "execution_count": 4,
     "metadata": {},
     "output_type": "execute_result"
    }
   ],
   "source": [
    "def print_time(i): \n",
    "    #sleep(random.random()/1000)\n",
    "    print(i, datetime.now())\n",
    "\n",
    "parallel(print_time, range(20), n_workers=2, pause=0.25)"
   ]
  },
  {
   "cell_type": "code",
   "execution_count": null,
   "id": "52127198",
   "metadata": {},
   "outputs": [],
   "source": []
  }
 ],
 "metadata": {
  "kernelspec": {
   "display_name": "Python (fractals)",
   "language": "python",
   "name": "fractals"
  },
  "language_info": {
   "codemirror_mode": {
    "name": "ipython",
    "version": 3
   },
   "file_extension": ".py",
   "mimetype": "text/x-python",
   "name": "python",
   "nbconvert_exporter": "python",
   "pygments_lexer": "ipython3",
   "version": "3.8.12"
  },
  "toc": {
   "base_numbering": 1,
   "nav_menu": {},
   "number_sections": true,
   "sideBar": true,
   "skip_h1_title": false,
   "title_cell": "Table of Contents",
   "title_sidebar": "Contents",
   "toc_cell": false,
   "toc_position": {},
   "toc_section_display": true,
   "toc_window_display": false
  }
 },
 "nbformat": 4,
 "nbformat_minor": 5
}
